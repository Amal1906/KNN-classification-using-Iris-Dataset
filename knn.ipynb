{
 "cells": [
  {
   "cell_type": "code",
   "execution_count": 3,
   "id": "1eca59b1",
   "metadata": {},
   "outputs": [],
   "source": [
    "import numpy as np\n",
    "from collections import Counter"
   ]
  },
  {
   "cell_type": "code",
   "execution_count": 4,
   "id": "8924cb64",
   "metadata": {},
   "outputs": [],
   "source": [
    "from collections import Counter\n",
    "import numpy as np\n",
    "\n",
    "class KNN:\n",
    "    \n",
    "    def eucledian_distance(self, x1, x2):  # Add 'self' here to indicate it's an instance method\n",
    "        return np.sqrt(np.sum((x1 - x2) ** 2))\n",
    "    \n",
    "    def __init__(self, k=3):\n",
    "        self.k = k\n",
    "        \n",
    "    def fit(self, X, y):\n",
    "        self.X_train = X\n",
    "        self.y_train = y\n",
    "        \n",
    "    def predict(self, X):  # Prediction happens by finding the k nearest data points\n",
    "        predicted_labels = [self._predict(x) for x in X]  # Use X here instead of x\n",
    "        return np.array(predicted_labels)\n",
    "    \n",
    "    def _predict(self, x):  # Helper function to calculate distance and find k-nearest neighbors\n",
    "        # Compute distances\n",
    "        distances = [self.eucledian_distance(x, x_train) for x_train in self.X_train]\n",
    "        \n",
    "        # Get k nearest samples and their labels\n",
    "        k_indices = np.argsort(distances)[:self.k] #This sorts the distances calulated in the ascending order in such a way that the position is sorted.\n",
    "        k_nearest_labels = [self.y_train[i] for i in k_indices]\n",
    "        \n",
    "        # Majority vote\n",
    "        most_common = Counter(k_nearest_labels).most_common(1)\n",
    "        return most_common[0][0]\n",
    "        \n",
    "\n"
   ]
  },
  {
   "cell_type": "code",
   "execution_count": null,
   "id": "da40d21c",
   "metadata": {},
   "outputs": [],
   "source": []
  }
 ],
 "metadata": {
  "kernelspec": {
   "display_name": "Python 3 (ipykernel)",
   "language": "python",
   "name": "python3"
  },
  "language_info": {
   "codemirror_mode": {
    "name": "ipython",
    "version": 3
   },
   "file_extension": ".py",
   "mimetype": "text/x-python",
   "name": "python",
   "nbconvert_exporter": "python",
   "pygments_lexer": "ipython3",
   "version": "3.9.12"
  }
 },
 "nbformat": 4,
 "nbformat_minor": 5
}
